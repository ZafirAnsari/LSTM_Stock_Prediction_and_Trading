{
 "cells": [
  {
   "cell_type": "code",
   "execution_count": 51,
   "metadata": {},
   "outputs": [
    {
     "ename": "ImportError",
     "evalue": "cannot import name 'HybridTrainer' from 'trainer' (/Users/tylerdempski/Documents/GitHub/project-stonks/src/trainer.py)",
     "output_type": "error",
     "traceback": [
      "\u001b[0;31m---------------------------------------------------------------------------\u001b[0m",
      "\u001b[0;31mImportError\u001b[0m                               Traceback (most recent call last)",
      "Cell \u001b[0;32mIn[51], line 4\u001b[0m\n\u001b[1;32m      2\u001b[0m \u001b[39mimport\u001b[39;00m \u001b[39mmodel\u001b[39;00m \u001b[39mas\u001b[39;00m \u001b[39mmodel\u001b[39;00m\n\u001b[1;32m      3\u001b[0m \u001b[39mimport\u001b[39;00m \u001b[39mtrainer\u001b[39;00m\n\u001b[0;32m----> 4\u001b[0m \u001b[39mfrom\u001b[39;00m \u001b[39mtrainer\u001b[39;00m \u001b[39mimport\u001b[39;00m HybridTrainer\n\u001b[1;32m      5\u001b[0m \u001b[39mimport\u001b[39;00m \u001b[39mdataReader\u001b[39;00m\n\u001b[1;32m      6\u001b[0m \u001b[39mfrom\u001b[39;00m \u001b[39mtrader\u001b[39;00m \u001b[39mimport\u001b[39;00m Trader\n",
      "\u001b[0;31mImportError\u001b[0m: cannot import name 'HybridTrainer' from 'trainer' (/Users/tylerdempski/Documents/GitHub/project-stonks/src/trainer.py)"
     ]
    }
   ],
   "source": [
    "import torch\n",
    "import model as model\n",
    "import trainer\n",
    "import dataReader\n",
    "from trader import Trader"
   ]
  },
  {
   "cell_type": "code",
   "execution_count": 49,
   "metadata": {},
   "outputs": [],
   "source": [
    "#Initialize models, set parameters\n",
    "WINDOW_SIZE = 20\n",
    "PREDICTION_OFFSET = 1\n",
    "DATE_RANGE = 1000\n",
    "START_DATE = '2017-12-6'\n",
    "HIDDEN_SIZE = 100\n",
    "HIDDEN_COUNT = 1\n",
    "STEP_COUNT = 1000\n",
    "STOCK_FILE = '../YFinanceStockData/BTC.csv'\n",
    "\n",
    "input_data, label_data = dataReader.readStockData(STOCK_FILE,WINDOW_SIZE,PREDICTION_OFFSET,START_DATE,DATE_RANGE,binary=False,percent=True,normalize=True)\n",
    "\n",
    "#Init each separate model\n",
    "lstm = model.LSTMModel(torch.nn.ReLU(),WINDOW_SIZE,HIDDEN_SIZE,HIDDEN_COUNT)\n",
    "lstm.init_weights()\n",
    "\n",
    "cnn = model.CNNModel(1,WINDOW_SIZE,kernel_size=5)\n",
    "cnn.init_weights()\n",
    "\n",
    "hybrid = model.HybridModel(WINDOW_SIZE,HIDDEN_SIZE,HIDDEN_COUNT,16,8,4)\n",
    "hybrid.init_weights()"
   ]
  },
  {
   "cell_type": "code",
   "execution_count": 50,
   "metadata": {},
   "outputs": [
    {
     "ename": "AttributeError",
     "evalue": "module 'trainer' has no attribute 'HybridTrainer'",
     "output_type": "error",
     "traceback": [
      "\u001b[0;31m---------------------------------------------------------------------------\u001b[0m",
      "\u001b[0;31mAttributeError\u001b[0m                            Traceback (most recent call last)",
      "Cell \u001b[0;32mIn[50], line 13\u001b[0m\n\u001b[1;32m      4\u001b[0m kwargs \u001b[39m=\u001b[39m {\n\u001b[1;32m      5\u001b[0m     \u001b[39m\"\u001b[39m\u001b[39mlr\u001b[39m\u001b[39m\"\u001b[39m : \u001b[39m0.00001\u001b[39m,\n\u001b[1;32m      6\u001b[0m }\n\u001b[1;32m      7\u001b[0m \u001b[39m#LSTMTrainer = trainer.LSTMTrainer(optimizer=optimizer,model=lstm,loss_func=loss_function,**kwargs)\u001b[39;00m\n\u001b[1;32m      8\u001b[0m \u001b[39m#LSTMLosses = LSTMTrainer.train(input_data,label_data,STEP_COUNT,train=True)\u001b[39;00m\n\u001b[1;32m      9\u001b[0m \n\u001b[1;32m     10\u001b[0m \u001b[39m#CNNTrainer = trainer.CNNTrainer(optimizer,cnn,loss_function,**kwargs)\u001b[39;00m\n\u001b[1;32m     11\u001b[0m \u001b[39m#CNNLosses = CNNTrainer.train(input_data,label_data,STEP_COUNT,WINDOW_SIZE,6,train=True)\u001b[39;00m\n\u001b[0;32m---> 13\u001b[0m HybridTrainer \u001b[39m=\u001b[39m trainer\u001b[39m.\u001b[39;49mHybridTrainer(optimizer,hybrid,loss_function,\u001b[39m*\u001b[39m\u001b[39m*\u001b[39mkwargs)\n\u001b[1;32m     14\u001b[0m \u001b[39m#HybridLosses = HybridTrainer.train(input_data,label_data,STEP_COUNT,train=true)\u001b[39;00m\n",
      "\u001b[0;31mAttributeError\u001b[0m: module 'trainer' has no attribute 'HybridTrainer'"
     ]
    }
   ],
   "source": [
    "#Train Models independently\n",
    "optimizer = torch.optim.Adam\n",
    "loss_function = torch.nn.MSELoss()\n",
    "kwargs = {\n",
    "    \"lr\" : 0.00001,\n",
    "}\n",
    "#LSTMTrainer = trainer.LSTMTrainer(optimizer=optimizer,model=lstm,loss_func=loss_function,**kwargs)\n",
    "#LSTMLosses = LSTMTrainer.train(input_data,label_data,STEP_COUNT,train=True)\n",
    "\n",
    "#CNNTrainer = trainer.CNNTrainer(optimizer,cnn,loss_function,**kwargs)\n",
    "#CNNLosses = CNNTrainer.train(input_data,label_data,STEP_COUNT,WINDOW_SIZE,6,train=True)\n",
    "\n",
    "HybridTrainer = trainer.HybridTrainer(optimizer,hybrid,loss_function,**kwargs)\n",
    "#HybridLosses = HybridTrainer.train(input_data,label_data,STEP_COUNT,train=true)\n",
    "\n"
   ]
  }
 ],
 "metadata": {
  "kernelspec": {
   "display_name": "Python 3",
   "language": "python",
   "name": "python3"
  },
  "language_info": {
   "codemirror_mode": {
    "name": "ipython",
    "version": 3
   },
   "file_extension": ".py",
   "mimetype": "text/x-python",
   "name": "python",
   "nbconvert_exporter": "python",
   "pygments_lexer": "ipython3",
   "version": "3.9.6"
  },
  "orig_nbformat": 4
 },
 "nbformat": 4,
 "nbformat_minor": 2
}
