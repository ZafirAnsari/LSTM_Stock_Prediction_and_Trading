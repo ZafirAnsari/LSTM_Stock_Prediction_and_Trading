{
 "cells": [
  {
   "cell_type": "code",
   "execution_count": 2,
   "metadata": {},
   "outputs": [
    {
     "name": "stdout",
     "output_type": "stream",
     "text": [
      "Defaulting to user installation because normal site-packages is not writeable\n",
      "Requirement already satisfied: yfinance in /Users/tylerdempski/Library/Python/3.9/lib/python/site-packages (0.2.18)\n",
      "Requirement already satisfied: html5lib>=1.1 in /Users/tylerdempski/Library/Python/3.9/lib/python/site-packages (from yfinance) (1.1)\n",
      "Requirement already satisfied: cryptography>=3.3.2 in /Users/tylerdempski/Library/Python/3.9/lib/python/site-packages (from yfinance) (41.0.1)\n",
      "Requirement already satisfied: numpy>=1.16.5 in /Users/tylerdempski/Library/Python/3.9/lib/python/site-packages (from yfinance) (1.21.0)\n",
      "Requirement already satisfied: requests>=2.26 in /Users/tylerdempski/Library/Python/3.9/lib/python/site-packages (from yfinance) (2.28.2)\n",
      "Requirement already satisfied: frozendict>=2.3.4 in /Users/tylerdempski/Library/Python/3.9/lib/python/site-packages (from yfinance) (2.3.8)\n",
      "Requirement already satisfied: beautifulsoup4>=4.11.1 in /Users/tylerdempski/Library/Python/3.9/lib/python/site-packages (from yfinance) (4.12.2)\n",
      "Requirement already satisfied: lxml>=4.9.1 in /Users/tylerdempski/Library/Python/3.9/lib/python/site-packages (from yfinance) (4.9.2)\n",
      "Requirement already satisfied: pandas>=1.3.0 in /Users/tylerdempski/Library/Python/3.9/lib/python/site-packages (from yfinance) (2.0.0)\n",
      "Requirement already satisfied: multitasking>=0.0.7 in /Users/tylerdempski/Library/Python/3.9/lib/python/site-packages (from yfinance) (0.0.11)\n",
      "Requirement already satisfied: appdirs>=1.4.4 in /Users/tylerdempski/Library/Python/3.9/lib/python/site-packages (from yfinance) (1.4.4)\n",
      "Requirement already satisfied: pytz>=2022.5 in /Users/tylerdempski/Library/Python/3.9/lib/python/site-packages (from yfinance) (2023.3)\n",
      "Requirement already satisfied: soupsieve>1.2 in /Users/tylerdempski/Library/Python/3.9/lib/python/site-packages (from beautifulsoup4>=4.11.1->yfinance) (2.4)\n",
      "Requirement already satisfied: cffi>=1.12 in /Users/tylerdempski/Library/Python/3.9/lib/python/site-packages (from cryptography>=3.3.2->yfinance) (1.15.1)\n",
      "Requirement already satisfied: six>=1.9 in /Applications/Xcode.app/Contents/Developer/Library/Frameworks/Python3.framework/Versions/3.9/lib/python3.9/site-packages (from html5lib>=1.1->yfinance) (1.15.0)\n",
      "Requirement already satisfied: webencodings in /Users/tylerdempski/Library/Python/3.9/lib/python/site-packages (from html5lib>=1.1->yfinance) (0.5.1)\n",
      "Requirement already satisfied: tzdata>=2022.1 in /Users/tylerdempski/Library/Python/3.9/lib/python/site-packages (from pandas>=1.3.0->yfinance) (2023.3)\n",
      "Requirement already satisfied: python-dateutil>=2.8.2 in /Users/tylerdempski/Library/Python/3.9/lib/python/site-packages (from pandas>=1.3.0->yfinance) (2.8.2)\n",
      "Requirement already satisfied: charset-normalizer<4,>=2 in /Users/tylerdempski/Library/Python/3.9/lib/python/site-packages (from requests>=2.26->yfinance) (3.1.0)\n",
      "Requirement already satisfied: certifi>=2017.4.17 in /Users/tylerdempski/Library/Python/3.9/lib/python/site-packages (from requests>=2.26->yfinance) (2022.12.7)\n",
      "Requirement already satisfied: idna<4,>=2.5 in /Users/tylerdempski/Library/Python/3.9/lib/python/site-packages (from requests>=2.26->yfinance) (3.4)\n",
      "Requirement already satisfied: urllib3<1.27,>=1.21.1 in /Users/tylerdempski/Library/Python/3.9/lib/python/site-packages (from requests>=2.26->yfinance) (1.26.15)\n",
      "Requirement already satisfied: pycparser in /Users/tylerdempski/Library/Python/3.9/lib/python/site-packages (from cffi>=1.12->cryptography>=3.3.2->yfinance) (2.21)\n",
      "\n",
      "\u001b[1m[\u001b[0m\u001b[34;49mnotice\u001b[0m\u001b[1;39;49m]\u001b[0m\u001b[39;49m A new release of pip is available: \u001b[0m\u001b[31;49m23.0.1\u001b[0m\u001b[39;49m -> \u001b[0m\u001b[32;49m23.1.2\u001b[0m\n",
      "\u001b[1m[\u001b[0m\u001b[34;49mnotice\u001b[0m\u001b[1;39;49m]\u001b[0m\u001b[39;49m To update, run: \u001b[0m\u001b[32;49m/Applications/Xcode.app/Contents/Developer/usr/bin/python3 -m pip install --upgrade pip\u001b[0m\n",
      "Note: you may need to restart the kernel to use updated packages.\n",
      "Defaulting to user installation because normal site-packages is not writeable\n",
      "Collecting talipp\n",
      "  Using cached talipp-1.9.1-py3-none-any.whl (43 kB)\n",
      "Installing collected packages: talipp\n",
      "Successfully installed talipp-1.9.1\n",
      "\n",
      "\u001b[1m[\u001b[0m\u001b[34;49mnotice\u001b[0m\u001b[1;39;49m]\u001b[0m\u001b[39;49m A new release of pip is available: \u001b[0m\u001b[31;49m23.0.1\u001b[0m\u001b[39;49m -> \u001b[0m\u001b[32;49m23.1.2\u001b[0m\n",
      "\u001b[1m[\u001b[0m\u001b[34;49mnotice\u001b[0m\u001b[1;39;49m]\u001b[0m\u001b[39;49m To update, run: \u001b[0m\u001b[32;49m/Applications/Xcode.app/Contents/Developer/usr/bin/python3 -m pip install --upgrade pip\u001b[0m\n",
      "Note: you may need to restart the kernel to use updated packages.\n"
     ]
    }
   ],
   "source": [
    "%pip install yfinance\n",
    "%pip install talipp\n",
    "import torch\n",
    "import numpy\n",
    "from ensemble import Ensemble\n",
    "from ensembleTrainer import EnsembleTrainer\n",
    "import dataReader\n",
    "import yfinance\n",
    "import talipp\n",
    "from trader import Trader\n",
    "WINDOW_SIZE = 30\n",
    "HIDDEN_SIZE = 128\n",
    "LAYER_COUNT = 2\n",
    "CNN_KERNEL = 6\n",
    "HYBRID_PROJ = 16\n",
    "HYBRID_CNN = 8\n",
    "MLP_DEPTH = 4\n",
    "STOCK_FILE = '../YFinanceStockData/BTC.csv'\n",
    "PREDICTION_OFFSET = 1\n",
    "START_DATE = '2016-1-1'\n",
    "DATE_RANGE = 365*2\n",
    "STEPS = 1000"
   ]
  },
  {
   "cell_type": "code",
   "execution_count": 3,
   "metadata": {},
   "outputs": [
    {
     "name": "stderr",
     "output_type": "stream",
     "text": [
      "  0%|          | 5/1000 [00:02<08:49,  1.88it/s]\n"
     ]
    },
    {
     "ename": "KeyboardInterrupt",
     "evalue": "",
     "output_type": "error",
     "traceback": [
      "\u001b[0;31m---------------------------------------------------------------------------\u001b[0m",
      "\u001b[0;31mKeyboardInterrupt\u001b[0m                         Traceback (most recent call last)",
      "Cell \u001b[0;32mIn[3], line 13\u001b[0m\n\u001b[1;32m     11\u001b[0m ensembleModel \u001b[39m=\u001b[39m Ensemble(WINDOW_SIZE,HIDDEN_SIZE,LAYER_COUNT,CNN_KERNEL,HYBRID_PROJ,HYBRID_CNN,MLP_DEPTH)\n\u001b[1;32m     12\u001b[0m ensembleTrainer \u001b[39m=\u001b[39m EnsembleTrainer(optimizer\u001b[39m=\u001b[39moptimizer,model\u001b[39m=\u001b[39mensembleModel,loss_func\u001b[39m=\u001b[39mloss_func,\u001b[39m*\u001b[39m\u001b[39m*\u001b[39mkwargs)\n\u001b[0;32m---> 13\u001b[0m ensembleLosses \u001b[39m=\u001b[39m ensembleTrainer\u001b[39m.\u001b[39;49mtrain(input_data,label_data,STEPS)\n",
      "File \u001b[0;32m~/Documents/GitHub/project-stonks/src/ensembleTrainer.py:33\u001b[0m, in \u001b[0;36mEnsembleTrainer.train\u001b[0;34m(self, x, y, steps, train, techInd)\u001b[0m\n\u001b[1;32m     31\u001b[0m \u001b[39mfor\u001b[39;00m step \u001b[39min\u001b[39;00m tqdm(\u001b[39mrange\u001b[39m(steps)):\n\u001b[1;32m     32\u001b[0m     \u001b[39mfor\u001b[39;00m j \u001b[39min\u001b[39;00m \u001b[39mrange\u001b[39m(x\u001b[39m.\u001b[39msize()[\u001b[39m0\u001b[39m]):\n\u001b[0;32m---> 33\u001b[0m         loss \u001b[39m=\u001b[39m \u001b[39mself\u001b[39;49m\u001b[39m.\u001b[39;49mrun_one_epoch(x[j],y[j],train \u001b[39m=\u001b[39;49m train,techInd\u001b[39m=\u001b[39;49mtechInd)\n\u001b[1;32m     34\u001b[0m         losses\u001b[39m.\u001b[39mappend(loss)\n\u001b[1;32m     35\u001b[0m         \u001b[39mif\u001b[39;00m train:\n",
      "File \u001b[0;32m~/Documents/GitHub/project-stonks/src/ensembleTrainer.py:25\u001b[0m, in \u001b[0;36mEnsembleTrainer.run_one_epoch\u001b[0;34m(self, x, y, train, techInd)\u001b[0m\n\u001b[1;32m     23\u001b[0m \u001b[39mif\u001b[39;00m train:\n\u001b[1;32m     24\u001b[0m     loss\u001b[39m.\u001b[39mbackward()\n\u001b[0;32m---> 25\u001b[0m     \u001b[39mself\u001b[39;49m\u001b[39m.\u001b[39;49moptimizer\u001b[39m.\u001b[39;49mstep()\n\u001b[1;32m     26\u001b[0m \u001b[39mreturn\u001b[39;00m loss\u001b[39m.\u001b[39mitem()\n",
      "File \u001b[0;32m~/Library/Python/3.9/lib/python/site-packages/torch/optim/optimizer.py:280\u001b[0m, in \u001b[0;36mOptimizer.profile_hook_step.<locals>.wrapper\u001b[0;34m(*args, **kwargs)\u001b[0m\n\u001b[1;32m    276\u001b[0m         \u001b[39melse\u001b[39;00m:\n\u001b[1;32m    277\u001b[0m             \u001b[39mraise\u001b[39;00m \u001b[39mRuntimeError\u001b[39;00m(\u001b[39mf\u001b[39m\u001b[39m\"\u001b[39m\u001b[39m{\u001b[39;00mfunc\u001b[39m}\u001b[39;00m\u001b[39m must return None or a tuple of (new_args, new_kwargs),\u001b[39m\u001b[39m\"\u001b[39m\n\u001b[1;32m    278\u001b[0m                                \u001b[39mf\u001b[39m\u001b[39m\"\u001b[39m\u001b[39mbut got \u001b[39m\u001b[39m{\u001b[39;00mresult\u001b[39m}\u001b[39;00m\u001b[39m.\u001b[39m\u001b[39m\"\u001b[39m)\n\u001b[0;32m--> 280\u001b[0m out \u001b[39m=\u001b[39m func(\u001b[39m*\u001b[39;49margs, \u001b[39m*\u001b[39;49m\u001b[39m*\u001b[39;49mkwargs)\n\u001b[1;32m    281\u001b[0m \u001b[39mself\u001b[39m\u001b[39m.\u001b[39m_optimizer_step_code()\n\u001b[1;32m    283\u001b[0m \u001b[39m# call optimizer step post hooks\u001b[39;00m\n",
      "File \u001b[0;32m~/Library/Python/3.9/lib/python/site-packages/torch/optim/optimizer.py:33\u001b[0m, in \u001b[0;36m_use_grad_for_differentiable.<locals>._use_grad\u001b[0;34m(self, *args, **kwargs)\u001b[0m\n\u001b[1;32m     31\u001b[0m \u001b[39mtry\u001b[39;00m:\n\u001b[1;32m     32\u001b[0m     torch\u001b[39m.\u001b[39mset_grad_enabled(\u001b[39mself\u001b[39m\u001b[39m.\u001b[39mdefaults[\u001b[39m'\u001b[39m\u001b[39mdifferentiable\u001b[39m\u001b[39m'\u001b[39m])\n\u001b[0;32m---> 33\u001b[0m     ret \u001b[39m=\u001b[39m func(\u001b[39mself\u001b[39;49m, \u001b[39m*\u001b[39;49margs, \u001b[39m*\u001b[39;49m\u001b[39m*\u001b[39;49mkwargs)\n\u001b[1;32m     34\u001b[0m \u001b[39mfinally\u001b[39;00m:\n\u001b[1;32m     35\u001b[0m     torch\u001b[39m.\u001b[39mset_grad_enabled(prev_grad)\n",
      "File \u001b[0;32m~/Library/Python/3.9/lib/python/site-packages/torch/optim/sgd.py:76\u001b[0m, in \u001b[0;36mSGD.step\u001b[0;34m(self, closure)\u001b[0m\n\u001b[1;32m     72\u001b[0m momentum_buffer_list \u001b[39m=\u001b[39m []\n\u001b[1;32m     74\u001b[0m has_sparse_grad \u001b[39m=\u001b[39m \u001b[39mself\u001b[39m\u001b[39m.\u001b[39m_init_group(group, params_with_grad, d_p_list, momentum_buffer_list)\n\u001b[0;32m---> 76\u001b[0m sgd(params_with_grad,\n\u001b[1;32m     77\u001b[0m     d_p_list,\n\u001b[1;32m     78\u001b[0m     momentum_buffer_list,\n\u001b[1;32m     79\u001b[0m     weight_decay\u001b[39m=\u001b[39;49mgroup[\u001b[39m'\u001b[39;49m\u001b[39mweight_decay\u001b[39;49m\u001b[39m'\u001b[39;49m],\n\u001b[1;32m     80\u001b[0m     momentum\u001b[39m=\u001b[39;49mgroup[\u001b[39m'\u001b[39;49m\u001b[39mmomentum\u001b[39;49m\u001b[39m'\u001b[39;49m],\n\u001b[1;32m     81\u001b[0m     lr\u001b[39m=\u001b[39;49mgroup[\u001b[39m'\u001b[39;49m\u001b[39mlr\u001b[39;49m\u001b[39m'\u001b[39;49m],\n\u001b[1;32m     82\u001b[0m     dampening\u001b[39m=\u001b[39;49mgroup[\u001b[39m'\u001b[39;49m\u001b[39mdampening\u001b[39;49m\u001b[39m'\u001b[39;49m],\n\u001b[1;32m     83\u001b[0m     nesterov\u001b[39m=\u001b[39;49mgroup[\u001b[39m'\u001b[39;49m\u001b[39mnesterov\u001b[39;49m\u001b[39m'\u001b[39;49m],\n\u001b[1;32m     84\u001b[0m     maximize\u001b[39m=\u001b[39;49mgroup[\u001b[39m'\u001b[39;49m\u001b[39mmaximize\u001b[39;49m\u001b[39m'\u001b[39;49m],\n\u001b[1;32m     85\u001b[0m     has_sparse_grad\u001b[39m=\u001b[39;49mhas_sparse_grad,\n\u001b[1;32m     86\u001b[0m     foreach\u001b[39m=\u001b[39;49mgroup[\u001b[39m'\u001b[39;49m\u001b[39mforeach\u001b[39;49m\u001b[39m'\u001b[39;49m])\n\u001b[1;32m     88\u001b[0m \u001b[39m# update momentum_buffers in state\u001b[39;00m\n\u001b[1;32m     89\u001b[0m \u001b[39mfor\u001b[39;00m p, momentum_buffer \u001b[39min\u001b[39;00m \u001b[39mzip\u001b[39m(params_with_grad, momentum_buffer_list):\n",
      "File \u001b[0;32m~/Library/Python/3.9/lib/python/site-packages/torch/optim/sgd.py:222\u001b[0m, in \u001b[0;36msgd\u001b[0;34m(params, d_p_list, momentum_buffer_list, has_sparse_grad, foreach, weight_decay, momentum, lr, dampening, nesterov, maximize)\u001b[0m\n\u001b[1;32m    219\u001b[0m \u001b[39melse\u001b[39;00m:\n\u001b[1;32m    220\u001b[0m     func \u001b[39m=\u001b[39m _single_tensor_sgd\n\u001b[0;32m--> 222\u001b[0m func(params,\n\u001b[1;32m    223\u001b[0m      d_p_list,\n\u001b[1;32m    224\u001b[0m      momentum_buffer_list,\n\u001b[1;32m    225\u001b[0m      weight_decay\u001b[39m=\u001b[39;49mweight_decay,\n\u001b[1;32m    226\u001b[0m      momentum\u001b[39m=\u001b[39;49mmomentum,\n\u001b[1;32m    227\u001b[0m      lr\u001b[39m=\u001b[39;49mlr,\n\u001b[1;32m    228\u001b[0m      dampening\u001b[39m=\u001b[39;49mdampening,\n\u001b[1;32m    229\u001b[0m      nesterov\u001b[39m=\u001b[39;49mnesterov,\n\u001b[1;32m    230\u001b[0m      has_sparse_grad\u001b[39m=\u001b[39;49mhas_sparse_grad,\n\u001b[1;32m    231\u001b[0m      maximize\u001b[39m=\u001b[39;49mmaximize)\n",
      "File \u001b[0;32m~/Library/Python/3.9/lib/python/site-packages/torch/optim/sgd.py:258\u001b[0m, in \u001b[0;36m_single_tensor_sgd\u001b[0;34m(params, d_p_list, momentum_buffer_list, weight_decay, momentum, lr, dampening, nesterov, maximize, has_sparse_grad)\u001b[0m\n\u001b[1;32m    256\u001b[0m     momentum_buffer_list[i] \u001b[39m=\u001b[39m buf\n\u001b[1;32m    257\u001b[0m \u001b[39melse\u001b[39;00m:\n\u001b[0;32m--> 258\u001b[0m     buf\u001b[39m.\u001b[39;49mmul_(momentum)\u001b[39m.\u001b[39madd_(d_p, alpha\u001b[39m=\u001b[39m\u001b[39m1\u001b[39m \u001b[39m-\u001b[39m dampening)\n\u001b[1;32m    260\u001b[0m \u001b[39mif\u001b[39;00m nesterov:\n\u001b[1;32m    261\u001b[0m     d_p \u001b[39m=\u001b[39m d_p\u001b[39m.\u001b[39madd(buf, alpha\u001b[39m=\u001b[39mmomentum)\n",
      "\u001b[0;31mKeyboardInterrupt\u001b[0m: "
     ]
    }
   ],
   "source": [
    "input_data, label_data = dataReader.readStockData(STOCK_FILE,WINDOW_SIZE,PREDICTION_OFFSET,START_DATE,DATE_RANGE,binary=False,percent=True,normalize=True)\n",
    "\n",
    "optimizer = torch.optim.SGD\n",
    "loss_func = torch.nn.MSELoss()\n",
    "\n",
    "kwargs = {\n",
    "    'lr' : 0.00001,\n",
    "    'momentum': 0.8\n",
    "}\n",
    "\n",
    "ensembleModel = Ensemble(WINDOW_SIZE,HIDDEN_SIZE,LAYER_COUNT,CNN_KERNEL,HYBRID_PROJ,HYBRID_CNN,MLP_DEPTH)\n",
    "ensembleTrainer = EnsembleTrainer(optimizer=optimizer,model=ensembleModel,loss_func=loss_func,**kwargs)\n",
    "ensembleLosses = ensembleTrainer.train(input_data,label_data,STEPS)"
   ]
  },
  {
   "cell_type": "code",
   "execution_count": 35,
   "metadata": {},
   "outputs": [
    {
     "name": "stdout",
     "output_type": "stream",
     "text": [
      "Long:\n",
      "Final Net Balance Change: $0.00\n",
      "Highest Balance: $0.00\n",
      "Lowest Balance: $0.00\n",
      "Biggest Single Play: $0.00\n",
      "Worst Single Play: $0.00\n",
      "With 0 total transactions\n",
      "0 Long Positions\n",
      "0 Short Positions\n",
      "0.00% Change from initial\n",
      "Short:\n",
      "Final Net Balance Change: $-3046.87\n",
      "Highest Balance: $0.00\n",
      "Lowest Balance: $-3046.87\n",
      "Biggest Single Play: $0.00\n",
      "Worst Single Play: $-3046.87\n",
      "With 1 total transactions\n",
      "0 Long Positions\n",
      "1 Short Positions\n",
      "-298.20% Change from initial\n",
      "Const\n",
      "Final Net Balance Change: $2995.52\n",
      "Highest Balance: $2995.52\n",
      "Lowest Balance: $0.00\n",
      "Biggest Single Play: $2995.52\n",
      "Worst Single Play: $0.00\n",
      "With 1 total transactions\n",
      "1 Long Positions\n",
      "0 Short Positions\n",
      "293.18% Change from initial\n",
      "114.01026153564453\n"
     ]
    }
   ],
   "source": [
    "shortTrader = Trader(True)\n",
    "longTrader = Trader(False)\n",
    "buyAndHold = Trader(True)\n",
    "\n",
    "test_data, test_labels = dataReader.readStockData(STOCK_FILE,WINDOW_SIZE,PREDICTION_OFFSET,'2017-1-1',DATE_RANGE,binary=False,normalize=True,percent=True)\n",
    "unnorm_data, unnorm_labels = dataReader.readStockData(STOCK_FILE,WINDOW_SIZE,PREDICTION_OFFSET,'2017-1-1',DATE_RANGE,percent=True,normalize=False)\n",
    "ELEMENT_COUNT = test_data.shape[0] - WINDOW_SIZE - PREDICTION_OFFSET + 1\n",
    "shortTrader.initialCost = unnorm_data[0][0][0]\n",
    "longTrader.initialCost = unnorm_data[0][0][0]\n",
    "buyAndHold.initialCost = unnorm_data[0][0][0]\n",
    "lastPrice = 0\n",
    "buyAndHold.buyStock(unnorm_data[0][0][0])\n",
    "for i in range(ELEMENT_COUNT):\n",
    "    Prediction = ensembleTrainer.model(test_data[i]).item()\n",
    "    day_of = unnorm_data[i][0][WINDOW_SIZE - 1].item()\n",
    "    next_price = Prediction * day_of / 100\n",
    "    shortTrader.actOnPrediction(day_of,next_price,verbose=False)\n",
    "    longTrader.actOnPrediction(day_of,next_price,verbose=False)\n",
    "    lastPrice = day_of\n",
    "\n",
    "shortTrader.closePositions(lastPrice)\n",
    "longTrader.closePositions(lastPrice)\n",
    "buyAndHold.closePositions(lastPrice)\n",
    "print(\"Long:\")\n",
    "longTrader.printStats()\n",
    "print(\"Short:\")\n",
    "shortTrader.printStats()\n",
    "print(\"Const\")\n",
    "buyAndHold.printStats()\n",
    "print(ensembleLosses[-1])\n"
   ]
  }
 ],
 "metadata": {
  "kernelspec": {
   "display_name": "Python 3",
   "language": "python",
   "name": "python3"
  },
  "language_info": {
   "codemirror_mode": {
    "name": "ipython",
    "version": 3
   },
   "file_extension": ".py",
   "mimetype": "text/x-python",
   "name": "python",
   "nbconvert_exporter": "python",
   "pygments_lexer": "ipython3",
   "version": "3.9.6"
  },
  "orig_nbformat": 4
 },
 "nbformat": 4,
 "nbformat_minor": 2
}
